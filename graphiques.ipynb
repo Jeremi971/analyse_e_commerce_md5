{
 "cells": [
  {
   "cell_type": "code",
   "execution_count": 15,
   "metadata": {},
   "outputs": [],
   "source": [
    "from donnees import (\n",
    "    ensemble_clients_olist,\n",
    "    ensemble_geolocalisation_olist,\n",
    "    ensemble_articles_commandes_olist,\n",
    "    ensemble_paiements_commandes_olist,\n",
    "    ensemble_avis_commandes_olist,\n",
    "    ensemble_commandes_olist,\n",
    "    ensemble_produits_olist,\n",
    "    ensemble_vendeurs_olist,\n",
    "    traduction_nom_categorie_produit\n",
    ")\n",
    "from outils import(\n",
    "    supprimer_les_doublons,\n",
    "    calculer_les_indices_de_dispertions,\n",
    "    créer_un_sous_ensemble_de_données,\n",
    "    remplacer_les_valeurs_extrèmes_par_des_NaN,\n",
    "    découpage_train_test,\n",
    "    entrainer_régression_linéaire_et_prédire,\n",
    "    tester_régression_linéaire_et_prédire,\n",
    "    remplacer_les_NaN_par_des_prédictions,\n",
    "    afficher_graphique_corrélation\n",
    "    \n",
    ")\n"
   ]
  },
  {
   "cell_type": "markdown",
   "metadata": {},
   "source": [
    "# Création des graphiques pour les analyses"
   ]
  }
 ],
 "metadata": {
  "kernelspec": {
   "display_name": "env",
   "language": "python",
   "name": "python3"
  },
  "language_info": {
   "codemirror_mode": {
    "name": "ipython",
    "version": 3
   },
   "file_extension": ".py",
   "mimetype": "text/x-python",
   "name": "python",
   "nbconvert_exporter": "python",
   "pygments_lexer": "ipython3",
   "version": "3.12.2"
  }
 },
 "nbformat": 4,
 "nbformat_minor": 2
}
